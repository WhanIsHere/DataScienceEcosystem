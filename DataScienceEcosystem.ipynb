{
 "cells": [
  {
   "cell_type": "markdown",
   "id": "c1aac2f3",
   "metadata": {},
   "source": [
    "# Data Science Tools and Ecosystem"
   ]
  },
  {
   "cell_type": "markdown",
   "id": "19167bdb",
   "metadata": {},
   "source": [
    "In this notebook, Data Science Tools and Ecosystem are summarized"
   ]
  },
  {
   "cell_type": "markdown",
   "id": "fdf56a7a",
   "metadata": {},
   "source": [
    "1. Python\n",
    "2. Java\n",
    "3. SQL\n",
    "4. C++\n",
    "5. Scala"
   ]
  },
  {
   "cell_type": "markdown",
   "id": "c6c1c5f7",
   "metadata": {},
   "source": [
    "- Pandas\n",
    "- Matplotlib\n",
    "- Numpy\n",
    "- Seaborn\n",
    "- Sci-kit Learn\n",
    "- Tensor Flow"
   ]
  },
  {
   "cell_type": "markdown",
   "id": "d737c265",
   "metadata": {},
   "source": [
    "| |Data Science Tools|\n",
    "|-----------|------------------|\n",
    "|1|Anaconda|\n",
    "|2|Visual Studio|\n",
    "|3|Spider|"
   ]
  },
  {
   "cell_type": "markdown",
   "id": "3c8d0a08",
   "metadata": {},
   "source": [
    "### Below are a few examples of evaluating arithmetic expressions in Python"
   ]
  },
  {
   "cell_type": "markdown",
   "id": "ac3572d1",
   "metadata": {},
   "source": [
    "**Objectives:**\n",
    "\n",
    "- To create a jupyter notebook \n",
    "- To familiar the use of notebook\n",
    "- To add heading, lists and table in markdown\n",
    "- To do some simple arithmetic expressions using jupyter notebook\n",
    "- To emphasize word in the markdown "
   ]
  },
  {
   "cell_type": "code",
   "execution_count": 2,
   "id": "e5e3a49e",
   "metadata": {},
   "outputs": [
    {
     "data": {
      "text/plain": [
       "17"
      ]
     },
     "execution_count": 2,
     "metadata": {},
     "output_type": "execute_result"
    }
   ],
   "source": [
    "# This is a simple arithmetic expression to multiply then add integers.\n",
    "\n",
    "(3*4)+5"
   ]
  },
  {
   "cell_type": "code",
   "execution_count": 13,
   "id": "6bf4b53b",
   "metadata": {},
   "outputs": [
    {
     "name": "stdout",
     "output_type": "stream",
     "text": [
      "3.3333333333333335\n",
      "There are 3.3333333333333335 hours\n"
     ]
    }
   ],
   "source": [
    "# This will convert 200 minutes to hours by diving by 60.\n",
    "\n",
    "print(200/60)\n",
    "print(f\"There are \" + str(200/60)+ \" hours\")"
   ]
  },
  {
   "cell_type": "markdown",
   "id": "f2f7fa62",
   "metadata": {},
   "source": [
    "## Author\n",
    "Chee Wei Han\n",
    "14.02.2024"
   ]
  }
 ],
 "metadata": {
  "kernelspec": {
   "display_name": "Python 3 (ipykernel)",
   "language": "python",
   "name": "python3"
  },
  "language_info": {
   "codemirror_mode": {
    "name": "ipython",
    "version": 3
   },
   "file_extension": ".py",
   "mimetype": "text/x-python",
   "name": "python",
   "nbconvert_exporter": "python",
   "pygments_lexer": "ipython3",
   "version": "3.11.5"
  }
 },
 "nbformat": 4,
 "nbformat_minor": 5
}
